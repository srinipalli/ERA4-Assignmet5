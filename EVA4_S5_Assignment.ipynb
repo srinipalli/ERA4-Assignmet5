{
  "cells": [
    {
      "cell_type": "code",
      "execution_count": 72,
      "metadata": {
        "id": "0m2JWFliFfKT"
      },
      "outputs": [],
      "source": [
        "from __future__ import print_function\n",
        "import torch\n",
        "import torch.nn as nn\n",
        "import torch.nn.functional as F\n",
        "import torch.optim as optim\n",
        "from torchvision import datasets, transforms"
      ]
    },
    {
      "cell_type": "code",
      "execution_count": 73,
      "metadata": {
        "id": "h_Cx9q2QFgM7"
      },
      "outputs": [],
      "source": [
        "class Net(nn.Module):\n",
        "    def __init__(self):\n",
        "        super(Net, self).__init__()\n",
        "        self.conv1 = nn.Conv2d(1, 32, 3, padding=1) #input -? OUtput? RF\n",
        "        self.conv2 = nn.Conv2d(32, 64, 3, padding=1)\n",
        "        self.pool1 = nn.MaxPool2d(2, 2)\n",
        "        self.conv3 = nn.Conv2d(64, 128, 3, padding=1)\n",
        "        self.conv4 = nn.Conv2d(128, 256, 3, padding=1)\n",
        "        self.pool2 = nn.MaxPool2d(2, 2)\n",
        "        self.conv5 = nn.Conv2d(256, 512, 3)\n",
        "        self.conv6 = nn.Conv2d(512, 1024, 3)\n",
        "        self.conv7 = nn.Conv2d(1024, 10, 3)\n",
        "\n",
        "    def forward(self, x):\n",
        "        x = self.pool1(F.relu(self.conv2(F.relu(self.conv1(x)))))\n",
        "        x = self.pool2(F.relu(self.conv4(F.relu(self.conv3(x)))))\n",
        "        x = F.relu(self.conv6(F.relu(self.conv5(x))))\n",
        "        x = F.relu(self.conv7(x))\n",
        "        x = x.view(-1, 10)\n",
        "        return F.log_softmax(x)"
      ]
    },
    {
      "cell_type": "code",
      "execution_count": 74,
      "metadata": {
        "id": "Zwe2LPsUsuGt"
      },
      "outputs": [],
      "source": [
        "class OptimizedNet(nn.Module):\n",
        "\n",
        "  def __init__(self):\n",
        "        super(OptimizedNet, self).__init__()\n",
        "\n",
        "        # Conv Block 1\n",
        "        self.conv1 = nn.Conv2d(1, 8, 3, padding=1)   # 28x28 → 28x28\n",
        "        self.bn1   = nn.BatchNorm2d(8)\n",
        "        self.dropout1 = nn.Dropout(0.1)\n",
        "\n",
        "        # Conv Block 2\n",
        "        self.conv2 = nn.Conv2d(8, 16, 3, padding=1)  # 28x28 → 28x28\n",
        "        self.bn2   = nn.BatchNorm2d(16)\n",
        "        self.dropout2 = nn.Dropout(0.1)\n",
        "\n",
        "        # Conv Block 3\n",
        "        self.conv3 = nn.Conv2d(16, 16, 3, padding=1)  # 14x14 → 14x14\n",
        "        self.bn3   = nn.BatchNorm2d(16)\n",
        "        self.dropout3 = nn.Dropout(0.1)\n",
        "\n",
        "        # Conv Block 4\n",
        "        self.conv4 = nn.Conv2d(16, 16, 3, padding=1)  # 14x14 → 14x14\n",
        "        self.bn4   = nn.BatchNorm2d(16)\n",
        "        self.dropout4 = nn.Dropout(0.1)\n",
        "\n",
        "        # Conv Block 5\n",
        "        self.conv5 = nn.Conv2d(16, 16, 3, padding=1) # 7x7 → 7x7\n",
        "        self.bn5 = nn.BatchNorm2d(16)\n",
        "        self.dropout5 = nn.Dropout(0.1)\n",
        "\n",
        "        # Conv Block 6\n",
        "        self.conv6 = nn.Conv2d(16, 16, 3, padding=1) # 7x7 → 7x7\n",
        "        self.bn6 = nn.BatchNorm2d(16)\n",
        "        self.dropout6 = nn.Dropout(0.1)\n",
        "\n",
        "        # Conv Block 7\n",
        "        self.conv7 = nn.Conv2d(16, 16, 3, padding=1) # 7x7 -> 7x7\n",
        "        self.bn7 = nn.BatchNorm2d(16)\n",
        "        self.dropout7 = nn.Dropout(0.1)\n",
        "\n",
        "        # Conv Block 8\n",
        "        self.conv8 = nn.Conv2d(16, 16, 3, padding=1) # 7x7 -> 7x7\n",
        "        self.bn8 = nn.BatchNorm2d(16)\n",
        "        self.dropout8 = nn.Dropout(0.1)\n",
        "\n",
        "        # Conv Block 9\n",
        "        self.conv9 = nn.Conv2d(16, 16, 3, padding=1) # 7x7 -> 7x7\n",
        "        self.bn9 = nn.BatchNorm2d(16)\n",
        "        self.dropout9 = nn.Dropout(0.1)\n",
        "\n",
        "        # Conv Block 10\n",
        "        self.conv10 = nn.Conv2d(16, 16, 3, padding=1) # 7x7 -> 7x7\n",
        "        self.bn10 = nn.BatchNorm2d(16)\n",
        "        self.dropout10 = nn.Dropout(0.1)\n",
        "\n",
        "\n",
        "        # Pooling\n",
        "        self.pool = nn.MaxPool2d(2, 2)\n",
        "\n",
        "        # Global Average Pool\n",
        "        self.gap = nn.AdaptiveAvgPool2d((1, 1))\n",
        "\n",
        "        # Final linear\n",
        "\n",
        "        self.fc = nn.Linear(16, 10) # Updated input features to match the last conv layer's output channels\n",
        "\n",
        "\n",
        "  def forward(self, x):\n",
        "        x = self.pool(self.dropout1(F.relu(self.bn1(self.conv1(x)))))   # 28x28 → 14x14\n",
        "        x = self.pool(self.dropout2(F.relu(self.bn2(self.conv2(x)))))   # 14x14 → 7x7\n",
        "        x = self.dropout3(F.relu(self.bn3(self.conv3(x))))              # 7x7 → 7x7\n",
        "        x = self.dropout4(F.relu(self.bn4(self.conv4(x))))              # 7x7 → 7x7\n",
        "        x = self.dropout5(F.relu(self.bn5(self.conv5(x))))              # 7x7 → 7x7\n",
        "        x = self.dropout6(F.relu(self.bn6(self.conv6(x))))              # 7x7 → 7x7\n",
        "        x = self.dropout7(F.relu(self.bn7(self.conv7(x))))              # 7x7 → 7x7\n",
        "        x = self.dropout8(F.relu(self.bn8(self.conv8(x))))              # 7x7 → 7x7\n",
        "        x = self.dropout9(F.relu(self.bn9(self.conv9(x))))              # 7x7 → 7x7\n",
        "        x = self.dropout10(F.relu(self.bn10(self.conv10(x))))            # 7x7 → 7x7\n",
        "        x = self.gap(x)                                  # 7x7 → 1x1\n",
        "        x = torch.flatten(x, 1)                          # 96\n",
        "        x = self.fc(x)\n",
        "        return F.log_softmax(x, dim=1)"
      ]
    },
    {
      "cell_type": "code",
      "execution_count": 75,
      "metadata": {
        "colab": {
          "base_uri": "https://localhost:8080/"
        },
        "id": "xdydjYTZFyi3",
        "outputId": "9fd4514b-2cf5-4232-a902-b0c4af944065"
      },
      "outputs": [
        {
          "output_type": "stream",
          "name": "stdout",
          "text": [
            "Requirement already satisfied: torchsummary in /usr/local/lib/python3.12/dist-packages (1.5.1)\n",
            "----------------------------------------------------------------\n",
            "        Layer (type)               Output Shape         Param #\n",
            "================================================================\n",
            "            Conv2d-1            [-1, 8, 28, 28]              80\n",
            "       BatchNorm2d-2            [-1, 8, 28, 28]              16\n",
            "           Dropout-3            [-1, 8, 28, 28]               0\n",
            "         MaxPool2d-4            [-1, 8, 14, 14]               0\n",
            "            Conv2d-5           [-1, 16, 14, 14]           1,168\n",
            "       BatchNorm2d-6           [-1, 16, 14, 14]              32\n",
            "           Dropout-7           [-1, 16, 14, 14]               0\n",
            "         MaxPool2d-8             [-1, 16, 7, 7]               0\n",
            "            Conv2d-9             [-1, 16, 7, 7]           2,320\n",
            "      BatchNorm2d-10             [-1, 16, 7, 7]              32\n",
            "          Dropout-11             [-1, 16, 7, 7]               0\n",
            "           Conv2d-12             [-1, 16, 7, 7]           2,320\n",
            "      BatchNorm2d-13             [-1, 16, 7, 7]              32\n",
            "          Dropout-14             [-1, 16, 7, 7]               0\n",
            "           Conv2d-15             [-1, 16, 7, 7]           2,320\n",
            "      BatchNorm2d-16             [-1, 16, 7, 7]              32\n",
            "          Dropout-17             [-1, 16, 7, 7]               0\n",
            "           Conv2d-18             [-1, 16, 7, 7]           2,320\n",
            "      BatchNorm2d-19             [-1, 16, 7, 7]              32\n",
            "          Dropout-20             [-1, 16, 7, 7]               0\n",
            "           Conv2d-21             [-1, 16, 7, 7]           2,320\n",
            "      BatchNorm2d-22             [-1, 16, 7, 7]              32\n",
            "          Dropout-23             [-1, 16, 7, 7]               0\n",
            "           Conv2d-24             [-1, 16, 7, 7]           2,320\n",
            "      BatchNorm2d-25             [-1, 16, 7, 7]              32\n",
            "          Dropout-26             [-1, 16, 7, 7]               0\n",
            "           Conv2d-27             [-1, 16, 7, 7]           2,320\n",
            "      BatchNorm2d-28             [-1, 16, 7, 7]              32\n",
            "          Dropout-29             [-1, 16, 7, 7]               0\n",
            "           Conv2d-30             [-1, 16, 7, 7]           2,320\n",
            "      BatchNorm2d-31             [-1, 16, 7, 7]              32\n",
            "          Dropout-32             [-1, 16, 7, 7]               0\n",
            "AdaptiveAvgPool2d-33             [-1, 16, 1, 1]               0\n",
            "           Linear-34                   [-1, 10]             170\n",
            "================================================================\n",
            "Total params: 20,282\n",
            "Trainable params: 20,282\n",
            "Non-trainable params: 0\n",
            "----------------------------------------------------------------\n",
            "Input size (MB): 0.00\n",
            "Forward/backward pass size (MB): 0.38\n",
            "Params size (MB): 0.08\n",
            "Estimated Total Size (MB): 0.46\n",
            "----------------------------------------------------------------\n"
          ]
        }
      ],
      "source": [
        "!pip install torchsummary\n",
        "use_cuda = torch.cuda.is_available()\n",
        "device = torch.device(\"cuda\" if use_cuda else \"cpu\")\n",
        "\n",
        "model = OptimizedNet().to(device)\n",
        "\n",
        "from torchsummary import summary\n",
        "summary(model, input_size=(1, 28, 28))\n"
      ]
    },
    {
      "cell_type": "code",
      "execution_count": 76,
      "metadata": {
        "id": "DqTWLaM5GHgH",
        "colab": {
          "base_uri": "https://localhost:8080/",
          "height": 139
        },
        "outputId": "feb7522a-eb36-4761-eea8-26d44d02bc29"
      },
      "outputs": [
        {
          "output_type": "execute_result",
          "data": {
            "text/plain": [
              "\"\\ntrain_transforms = transforms.Compose([\\n    transforms.ToTensor(),\\n    transforms.Normalize((0.1307,), (0.3081,))\\n])\\n\\ntest_transforms = transforms.Compose([\\n    transforms.ToTensor(),\\n    transforms.Normalize((0.1307,), (0.3081,))\\n])\\n\\nbatch_size = 64\\nkwargs = {'num_workers': 1, 'pin_memory': True} if use_cuda else {}\\n\\n\\n\\n# full training dataset (60k)\\nfull_train = datasets.MNIST('../data', train=True, download=True, transform=train_transforms)\\nfrom torch.utils.data import random_split, DataLoader\\n\\n# split into 50k train + 10k validation\\ntrain_set, val_set = random_split(full_train, [50000, 10000])\\n\\n# official 10k test set\\ntest_set = datasets.MNIST('../data', train=False, transform=test_transforms)\\n\\n# DataLoaders\\nbatch_size = 64\\nkwargs = {'num_workers': 1, 'pin_memory': True} if use_cuda else {}\\n\\ntrain_loader = DataLoader(train_set, batch_size=batch_size, shuffle=True, **kwargs)\\nval_loader   = DataLoader(val_set,   batch_size=batch_size, shuffle=False, **kwargs)\\ntest_loader  = DataLoader(test_set,  batch_size=batch_size, shuffle=False, **kwargs)\\n\""
            ],
            "application/vnd.google.colaboratory.intrinsic+json": {
              "type": "string"
            }
          },
          "metadata": {},
          "execution_count": 76
        }
      ],
      "source": [
        "\n",
        "torch.manual_seed(1)\n",
        "batch_size = 64\n",
        "\n",
        "kwargs = {'num_workers': 1, 'pin_memory': True} if use_cuda else {}\n",
        "train_loader = torch.utils.data.DataLoader(\n",
        "    datasets.MNIST('../data', train=True, download=True,\n",
        "                    transform=transforms.Compose([\n",
        "                        transforms.ToTensor(),\n",
        "                        transforms.Normalize((0.1307,), (0.3081,))\n",
        "                    ])),\n",
        "    batch_size=batch_size, shuffle=True, **kwargs)\n",
        "test_loader = torch.utils.data.DataLoader(\n",
        "    datasets.MNIST('../data', train=False, transform=transforms.Compose([\n",
        "                        transforms.ToTensor(),\n",
        "                        transforms.Normalize((0.1307,), (0.3081,))\n",
        "                    ])),\n",
        "    batch_size=batch_size, shuffle=True, **kwargs)\n",
        "# -------------------------------------------------------------------\n",
        "# 3) Data loaders with normalization & augmentation\n",
        "# -------------------------------------------------------------------\n",
        "\"\"\"\n",
        "train_transforms = transforms.Compose([\n",
        "    transforms.ToTensor(),\n",
        "    transforms.Normalize((0.1307,), (0.3081,))\n",
        "])\n",
        "\n",
        "test_transforms = transforms.Compose([\n",
        "    transforms.ToTensor(),\n",
        "    transforms.Normalize((0.1307,), (0.3081,))\n",
        "])\n",
        "\n",
        "batch_size = 64\n",
        "kwargs = {'num_workers': 1, 'pin_memory': True} if use_cuda else {}\n",
        "\n",
        "\n",
        "\n",
        "# full training dataset (60k)\n",
        "full_train = datasets.MNIST('../data', train=True, download=True, transform=train_transforms)\n",
        "from torch.utils.data import random_split, DataLoader\n",
        "\n",
        "# split into 50k train + 10k validation\n",
        "train_set, val_set = random_split(full_train, [50000, 10000])\n",
        "\n",
        "# official 10k test set\n",
        "test_set = datasets.MNIST('../data', train=False, transform=test_transforms)\n",
        "\n",
        "# DataLoaders\n",
        "batch_size = 64\n",
        "kwargs = {'num_workers': 1, 'pin_memory': True} if use_cuda else {}\n",
        "\n",
        "train_loader = DataLoader(train_set, batch_size=batch_size, shuffle=True, **kwargs)\n",
        "val_loader   = DataLoader(val_set,   batch_size=batch_size, shuffle=False, **kwargs)\n",
        "test_loader  = DataLoader(test_set,  batch_size=batch_size, shuffle=False, **kwargs)\n",
        "\"\"\""
      ]
    },
    {
      "cell_type": "code",
      "execution_count": 77,
      "metadata": {
        "id": "8fDefDhaFlwH"
      },
      "outputs": [],
      "source": [
        "\"\"\" from tqdm import tqdm\n",
        "def train(model, device, train_loader, optimizer, epoch):\n",
        "    model.train()\n",
        "    pbar = tqdm(train_loader)\n",
        "    for batch_idx, (data, target) in enumerate(pbar):\n",
        "        data, target = data.to(device), target.to(device)\n",
        "        optimizer.zero_grad()\n",
        "        output = model(data)\n",
        "        loss = F.nll_loss(output, target)\n",
        "        loss.backward()\n",
        "        optimizer.step()\n",
        "        pbar.set_description(desc= f'loss={loss.item()} batch_id={batch_idx}')\n",
        "\n",
        "\n",
        "def test(model, device, test_loader):\n",
        "    model.eval()\n",
        "    test_loss = 0\n",
        "    correct = 0\n",
        "    with torch.no_grad():\n",
        "        for data, target in test_loader:\n",
        "            data, target = data.to(device), target.to(device)\n",
        "            output = model(data)\n",
        "            test_loss += F.nll_loss(output, target, reduction='sum').item()  # sum up batch loss\n",
        "            pred = output.argmax(dim=1, keepdim=True)  # get the index of the max log-probability\n",
        "            correct += pred.eq(target.view_as(pred)).sum().item()\n",
        "\n",
        "    test_loss /= len(test_loader.dataset)\n",
        "\n",
        "    print('\\nTest set: Average loss: {:.4f}, Accuracy: {}/{} ({:.0f}%)\\n'.format(\n",
        "        test_loss, correct, len(test_loader.dataset),\n",
        "        100. * correct / len(test_loader.dataset))) \"\"\"\n",
        "# -------------------------------------------------------------------\n",
        "# 4) Training & testing functions with dropout, BN, and learning rate scheduling\n",
        "# -------------------------------------------------------------------\n",
        "from tqdm import tqdm\n",
        "\n",
        "def train(epoch):\n",
        "    model.train()\n",
        "    pbar = tqdm(train_loader, desc=f\"Epoch {epoch}\")\n",
        "    correct, processed = 0, 0\n",
        "    for batch_idx, (data, target) in enumerate(pbar):\n",
        "        data, target = data.to(device), target.to(device)\n",
        "        optimizer.zero_grad()\n",
        "        output = model(data)\n",
        "        loss = F.nll_loss(output, target)\n",
        "        loss.backward()\n",
        "        optimizer.step()\n",
        "        pred = output.argmax(dim=1, keepdim=True)\n",
        "        correct += pred.eq(target.view_as(pred)).sum().item()\n",
        "        processed += len(data)\n",
        "        pbar.set_postfix({'loss': f\"{loss.item():.4f}\",\n",
        "                          'acc': f\"{100*correct/processed:.2f}%\"})\n",
        "\n",
        "def test():\n",
        "    model.eval()\n",
        "    test_loss, correct = 0, 0\n",
        "    with torch.no_grad():\n",
        "        for data, target in test_loader:\n",
        "            data, target = data.to(device), target.to(device)\n",
        "            output = model(data)\n",
        "            test_loss += F.nll_loss(output, target, reduction='sum').item()\n",
        "            pred = output.argmax(dim=1, keepdim=True)\n",
        "            correct += pred.eq(target.view_as(pred)).sum().item()\n",
        "    test_loss /= len(test_loader.dataset)\n",
        "    acc = 100. * correct / len(test_loader.dataset)\n",
        "    print(f\"\\nTest  Avg loss: {test_loss:.4f}, Accuracy: {correct}/{len(test_loader.dataset)} ({acc:.2f}%)\\n\")\n",
        "    return acc"
      ]
    },
    {
      "cell_type": "code",
      "execution_count": 78,
      "metadata": {
        "colab": {
          "base_uri": "https://localhost:8080/"
        },
        "id": "MMWbLWO6FuHb",
        "outputId": "92983560-60ff-46d7-a462-9422ba24898a"
      },
      "outputs": [
        {
          "output_type": "stream",
          "name": "stderr",
          "text": [
            "Epoch 1: 100%|██████████| 938/938 [00:23<00:00, 39.98it/s, loss=0.0499, acc=81.56%]\n"
          ]
        },
        {
          "output_type": "stream",
          "name": "stdout",
          "text": [
            "\n",
            "Test  Avg loss: 0.0831, Accuracy: 9751/10000 (97.51%)\n",
            "\n"
          ]
        },
        {
          "output_type": "stream",
          "name": "stderr",
          "text": [
            "Epoch 2: 100%|██████████| 938/938 [00:24<00:00, 38.93it/s, loss=0.0440, acc=96.81%]\n"
          ]
        },
        {
          "output_type": "stream",
          "name": "stdout",
          "text": [
            "\n",
            "Test  Avg loss: 0.0446, Accuracy: 9880/10000 (98.80%)\n",
            "\n"
          ]
        },
        {
          "output_type": "stream",
          "name": "stderr",
          "text": [
            "Epoch 3: 100%|██████████| 938/938 [00:23<00:00, 40.38it/s, loss=0.1291, acc=97.48%]\n"
          ]
        },
        {
          "output_type": "stream",
          "name": "stdout",
          "text": [
            "\n",
            "Test  Avg loss: 0.0372, Accuracy: 9895/10000 (98.95%)\n",
            "\n"
          ]
        },
        {
          "output_type": "stream",
          "name": "stderr",
          "text": [
            "Epoch 4: 100%|██████████| 938/938 [00:22<00:00, 41.48it/s, loss=0.0113, acc=97.98%]\n"
          ]
        },
        {
          "output_type": "stream",
          "name": "stdout",
          "text": [
            "\n",
            "Test  Avg loss: 0.0455, Accuracy: 9866/10000 (98.66%)\n",
            "\n"
          ]
        },
        {
          "output_type": "stream",
          "name": "stderr",
          "text": [
            "Epoch 5: 100%|██████████| 938/938 [00:23<00:00, 39.88it/s, loss=0.1698, acc=98.08%]\n"
          ]
        },
        {
          "output_type": "stream",
          "name": "stdout",
          "text": [
            "\n",
            "Test  Avg loss: 0.0314, Accuracy: 9903/10000 (99.03%)\n",
            "\n"
          ]
        },
        {
          "output_type": "stream",
          "name": "stderr",
          "text": [
            "Epoch 6: 100%|██████████| 938/938 [00:23<00:00, 40.24it/s, loss=0.0745, acc=98.51%]\n"
          ]
        },
        {
          "output_type": "stream",
          "name": "stdout",
          "text": [
            "\n",
            "Test  Avg loss: 0.0281, Accuracy: 9911/10000 (99.11%)\n",
            "\n"
          ]
        },
        {
          "output_type": "stream",
          "name": "stderr",
          "text": [
            "Epoch 7: 100%|██████████| 938/938 [00:23<00:00, 39.72it/s, loss=0.0866, acc=98.61%]\n"
          ]
        },
        {
          "output_type": "stream",
          "name": "stdout",
          "text": [
            "\n",
            "Test  Avg loss: 0.0247, Accuracy: 9930/10000 (99.30%)\n",
            "\n"
          ]
        },
        {
          "output_type": "stream",
          "name": "stderr",
          "text": [
            "Epoch 8: 100%|██████████| 938/938 [00:23<00:00, 40.00it/s, loss=0.0311, acc=98.65%]\n"
          ]
        },
        {
          "output_type": "stream",
          "name": "stdout",
          "text": [
            "\n",
            "Test  Avg loss: 0.0223, Accuracy: 9931/10000 (99.31%)\n",
            "\n"
          ]
        },
        {
          "output_type": "stream",
          "name": "stderr",
          "text": [
            "Epoch 9: 100%|██████████| 938/938 [00:23<00:00, 40.31it/s, loss=0.1150, acc=98.72%]\n"
          ]
        },
        {
          "output_type": "stream",
          "name": "stdout",
          "text": [
            "\n",
            "Test  Avg loss: 0.0252, Accuracy: 9929/10000 (99.29%)\n",
            "\n"
          ]
        },
        {
          "output_type": "stream",
          "name": "stderr",
          "text": [
            "Epoch 10: 100%|██████████| 938/938 [00:23<00:00, 40.36it/s, loss=0.0041, acc=98.78%]\n"
          ]
        },
        {
          "output_type": "stream",
          "name": "stdout",
          "text": [
            "\n",
            "Test  Avg loss: 0.0267, Accuracy: 9920/10000 (99.20%)\n",
            "\n"
          ]
        },
        {
          "output_type": "stream",
          "name": "stderr",
          "text": [
            "Epoch 11: 100%|██████████| 938/938 [00:23<00:00, 39.40it/s, loss=0.0685, acc=98.93%]\n"
          ]
        },
        {
          "output_type": "stream",
          "name": "stdout",
          "text": [
            "\n",
            "Test  Avg loss: 0.0210, Accuracy: 9941/10000 (99.41%)\n",
            "\n"
          ]
        },
        {
          "output_type": "stream",
          "name": "stderr",
          "text": [
            "Epoch 12: 100%|██████████| 938/938 [00:23<00:00, 39.96it/s, loss=0.0034, acc=98.94%]\n"
          ]
        },
        {
          "output_type": "stream",
          "name": "stdout",
          "text": [
            "\n",
            "Test  Avg loss: 0.0205, Accuracy: 9938/10000 (99.38%)\n",
            "\n"
          ]
        },
        {
          "output_type": "stream",
          "name": "stderr",
          "text": [
            "Epoch 13: 100%|██████████| 938/938 [00:24<00:00, 38.59it/s, loss=0.0046, acc=98.87%]\n"
          ]
        },
        {
          "output_type": "stream",
          "name": "stdout",
          "text": [
            "\n",
            "Test  Avg loss: 0.0186, Accuracy: 9944/10000 (99.44%)\n",
            "\n"
          ]
        },
        {
          "output_type": "stream",
          "name": "stderr",
          "text": [
            "Epoch 14: 100%|██████████| 938/938 [00:23<00:00, 39.87it/s, loss=0.0064, acc=98.96%]\n"
          ]
        },
        {
          "output_type": "stream",
          "name": "stdout",
          "text": [
            "\n",
            "Test  Avg loss: 0.0202, Accuracy: 9934/10000 (99.34%)\n",
            "\n"
          ]
        },
        {
          "output_type": "stream",
          "name": "stderr",
          "text": [
            "Epoch 15: 100%|██████████| 938/938 [00:23<00:00, 39.59it/s, loss=0.0063, acc=99.01%]\n"
          ]
        },
        {
          "output_type": "stream",
          "name": "stdout",
          "text": [
            "\n",
            "Test  Avg loss: 0.0207, Accuracy: 9934/10000 (99.34%)\n",
            "\n"
          ]
        },
        {
          "output_type": "stream",
          "name": "stderr",
          "text": [
            "Epoch 16: 100%|██████████| 938/938 [00:23<00:00, 39.60it/s, loss=0.0136, acc=99.05%]\n"
          ]
        },
        {
          "output_type": "stream",
          "name": "stdout",
          "text": [
            "\n",
            "Test  Avg loss: 0.0198, Accuracy: 9937/10000 (99.37%)\n",
            "\n"
          ]
        },
        {
          "output_type": "stream",
          "name": "stderr",
          "text": [
            "Epoch 17: 100%|██████████| 938/938 [00:23<00:00, 39.23it/s, loss=0.0094, acc=99.06%]\n"
          ]
        },
        {
          "output_type": "stream",
          "name": "stdout",
          "text": [
            "\n",
            "Test  Avg loss: 0.0192, Accuracy: 9942/10000 (99.42%)\n",
            "\n"
          ]
        },
        {
          "output_type": "stream",
          "name": "stderr",
          "text": [
            "Epoch 18: 100%|██████████| 938/938 [00:23<00:00, 39.79it/s, loss=0.0449, acc=99.06%]\n"
          ]
        },
        {
          "output_type": "stream",
          "name": "stdout",
          "text": [
            "\n",
            "Test  Avg loss: 0.0177, Accuracy: 9942/10000 (99.42%)\n",
            "\n"
          ]
        },
        {
          "output_type": "stream",
          "name": "stderr",
          "text": [
            "Epoch 19: 100%|██████████| 938/938 [00:22<00:00, 40.89it/s, loss=0.2475, acc=99.05%]\n"
          ]
        },
        {
          "output_type": "stream",
          "name": "stdout",
          "text": [
            "\n",
            "Test  Avg loss: 0.0181, Accuracy: 9945/10000 (99.45%)\n",
            "\n",
            "✅ Finished Training. Best accuracy: 99.45%\n"
          ]
        }
      ],
      "source": [
        "\"\"\"\n",
        "model = Net().to(device)\n",
        "optimizer = optim.SGD(model.parameters(), lr=0.01, momentum=0.9)\n",
        "\n",
        "for epoch in range(1, 2):\n",
        "    train(model, device, train_loader, optimizer, epoch)\n",
        "    test(model, device, test_loader) \"\"\"\n",
        "# -------------------------------------------------------------------\n",
        "# 5) Optimizer, scheduler, and training loop\n",
        "# -------------------------------------------------------------------\n",
        "#optimizer = optim.SGD(model.parameters(), lr=0.001)\n",
        "#optimizer = optim.Adam(model.parameters(), lr=0.001)\n",
        "#scheduler = optim.lr_scheduler.StepLR(optimizer, step_size=5, gamma=0.5)\n",
        "\n",
        "#optimizer = optim.Adam(model.parameters(), lr=0.001)\n",
        "\n",
        "optimizer = optim.SGD(model.parameters(), lr=0.01, momentum=0.9)\n",
        "scheduler = optim.lr_scheduler.StepLR(optimizer, step_size=5, gamma=0.5) # Keep the same scheduler or modify as needed\n",
        "\n",
        "best_acc = 0.0\n",
        "target_acc = 99.5\n",
        "for epoch in range(1, 20):\n",
        "    train(epoch)\n",
        "    acc = test()\n",
        "    scheduler.step()\n",
        "    if acc > best_acc:\n",
        "        best_acc = acc\n",
        "    if acc >= target_acc:\n",
        "        print(f\"🎯 Target accuracy {target_acc}% reached at epoch {epoch}!\")\n",
        "        break\n",
        "\n",
        "print(f\"✅ Finished Training. Best accuracy: {best_acc:.2f}%\")"
      ]
    },
    {
      "cell_type": "code",
      "metadata": {
        "id": "4cf5f624"
      },
      "source": [
        "# Example 1: Change optimizer and learning rate\n",
        "# optimizer = optim.Adam(model.parameters(), lr=0.001)\n",
        "optimizer = optim.SGD(model.parameters(), lr=0.01, momentum=0.9)\n",
        "scheduler = optim.lr_scheduler.StepLR(optimizer, step_size=5, gamma=0.5) # Keep the same scheduler or modify as needed"
      ],
      "execution_count": null,
      "outputs": []
    },
    {
      "cell_type": "code",
      "metadata": {
        "id": "bbc36a14"
      },
      "source": [
        "# Example 2: Modify learning rate scheduler\n",
        "optimizer = optim.Adam(model.parameters(), lr=0.001) # Keep the same optimizer or change as needed\n",
        "scheduler = optim.lr_scheduler.StepLR(optimizer, step_size=10, gamma=0.1) # Changed step_size and gamma"
      ],
      "execution_count": null,
      "outputs": []
    },
    {
      "cell_type": "code",
      "metadata": {
        "id": "4c5068af"
      },
      "source": [
        "# Example 3: Change batch size in cell DqTWLaM5GHgH\n",
        "# Make sure to execute cell DqTWLaM5GHgH after changing the batch size\n",
        "# batch_size = 128\n",
        "batch_size = 64"
      ],
      "execution_count": null,
      "outputs": []
    },
    {
      "cell_type": "code",
      "execution_count": null,
      "metadata": {
        "id": "So5uk4EkHW6R"
      },
      "outputs": [],
      "source": []
    }
  ],
  "metadata": {
    "accelerator": "GPU",
    "colab": {
      "provenance": []
    },
    "kernelspec": {
      "display_name": "Python 3",
      "name": "python3"
    }
  },
  "nbformat": 4,
  "nbformat_minor": 0
}